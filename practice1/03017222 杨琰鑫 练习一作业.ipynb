{
 "cells": [
  {
   "cell_type": "markdown",
   "metadata": {},
   "source": [
    "# 读取数据文件及数据对象表达\n",
    "## 读取原始数据"
   ]
  },
  {
   "cell_type": "code",
   "execution_count": 1,
   "metadata": {
    "scrolled": false
   },
   "outputs": [
    {
     "name": "stdout",
     "output_type": "stream",
     "text": [
      "x,y,x,y,x,y,x,y\n",
      "\n",
      "10.00 ,8.04 ,10.00 ,9.14 ,10.00 ,7.46 ,8.00 ,6.58 \n",
      "\n",
      "8.00 ,6.95 ,8.00 ,8.14 ,8.00 ,6.77 ,8.00 ,5.76 \n",
      "\n",
      "13.00 ,7.58 ,13.00 ,8.74 ,13.00 ,12.74 ,8.00 ,7.71 \n",
      "\n",
      "9.00 ,8.81 ,9.00 ,8.77 ,9.00 ,7.11 ,8.00 ,8.84 \n",
      "\n",
      "11.00 ,8.33 ,11.00 ,9.26 ,11.00 ,7.81 ,8.00 ,8.47 \n",
      "\n",
      "14.00 ,9.96 ,14.00 ,8.10 ,14.00 ,8.84 ,8.00 ,7.04 \n",
      "\n",
      "6.00 ,7.24 ,6.00 ,6.13 ,6.00 ,6.08 ,8.00 ,5.25 \n",
      "\n",
      "4.00 ,4.26 ,4.00 ,3.10 ,4.00 ,5.39 ,19.00 ,12.50 \n",
      "\n",
      "12.00 ,10.84 ,12.00 ,9.13 ,12.00 ,8.15 ,8.00 ,5.56 \n",
      "\n",
      "7.00 ,4.82 ,7.00 ,7.26 ,7.00 ,6.42 ,8.00 ,7.91 \n",
      "\n",
      "5.00 ,5.68 ,5.00 ,4.74 ,5.00 ,5.73 ,8.00 ,6.89 \n",
      "\n"
     ]
    }
   ],
   "source": [
    "file=open('Anscombe.csv','r')\n",
    "for line in file:\n",
    "       print(line) # 读取表内原始数据\n",
    "        \n",
    "m=line.split(',')\n",
    "filecol=int(len(m))\n",
    "group=int(len(m)/2) # 求出数据组数\n",
    "\n",
    "file.close()"
   ]
  },
  {
   "cell_type": "markdown",
   "metadata": {},
   "source": [
    "## 以列表的形式整理数据"
   ]
  },
  {
   "cell_type": "code",
   "execution_count": 2,
   "metadata": {},
   "outputs": [
    {
     "name": "stdout",
     "output_type": "stream",
     "text": [
      "No.1\n",
      "{'x1': [10.0, 8.0, 13.0, 9.0, 11.0, 14.0, 6.0, 4.0, 12.0, 7.0, 5.0], 'y1': [8.04, 6.95, 7.58, 8.81, 8.33, 9.96, 7.24, 4.26, 10.84, 4.82, 5.68]} \n",
      "\n",
      "No.2\n",
      "{'x2': [10.0, 8.0, 13.0, 9.0, 11.0, 14.0, 6.0, 4.0, 12.0, 7.0, 5.0], 'y2': [9.14, 8.14, 8.74, 8.77, 9.26, 8.1, 6.13, 3.1, 9.13, 7.26, 4.74]} \n",
      "\n",
      "No.3\n",
      "{'x3': [10.0, 8.0, 13.0, 9.0, 11.0, 14.0, 6.0, 4.0, 12.0, 7.0, 5.0], 'y3': [7.46, 6.77, 12.74, 7.11, 7.81, 8.84, 6.08, 5.39, 8.15, 6.42, 5.73]} \n",
      "\n",
      "No.4\n",
      "{'x4': [8.0, 8.0, 8.0, 8.0, 8.0, 8.0, 8.0, 19.0, 8.0, 8.0, 8.0], 'y4': [6.58, 5.76, 7.71, 8.84, 8.47, 7.04, 5.25, 12.5, 5.56, 7.91, 6.89]} \n",
      "\n"
     ]
    }
   ],
   "source": [
    "def getData(fileName,n):\n",
    "    ''' \n",
    "    读取文件数据\n",
    "    '''\n",
    "    dataFile = open(fileName, 'r')\n",
    "    x = []\n",
    "    y = []\n",
    "    discardHeader = dataFile.readline()# 读取表头\n",
    "    n=2*n\n",
    "    for line in dataFile:\n",
    "        a = line.split(',')\n",
    "        d, m= a[n],a[n+1]\n",
    "        x.append(float(d))\n",
    "        y.append(float(m))\n",
    "    dataFile.close()\n",
    "    return (x, y) # 返回该组数据x，y的列表形式\n",
    "\n",
    "inputFile='Anscombe.csv'\n",
    "i=0\n",
    "\n",
    "for i in range(group):\n",
    "    d={}\n",
    "    xlabel='x'+str(i+1)\n",
    "    ylabel='y'+str(i+1)\n",
    "    print('No.'+str(i+1))\n",
    "    x,y = getData(inputFile,i)\n",
    "    d[xlabel]=x\n",
    "    d[ylabel]=y\n",
    "    print(d,'\\n')"
   ]
  },
  {
   "cell_type": "markdown",
   "metadata": {},
   "source": [
    "## 以字典方式将数据分类"
   ]
  },
  {
   "cell_type": "code",
   "execution_count": 3,
   "metadata": {},
   "outputs": [
    {
     "name": "stdout",
     "output_type": "stream",
     "text": [
      "No.1\n",
      "{'x1': 10.0, 'y1': 8.04}\n",
      "{'x1': 8.0, 'y1': 6.95}\n",
      "{'x1': 13.0, 'y1': 7.58}\n",
      "{'x1': 9.0, 'y1': 8.81}\n",
      "{'x1': 11.0, 'y1': 8.33}\n",
      "{'x1': 14.0, 'y1': 9.96}\n",
      "{'x1': 6.0, 'y1': 7.24}\n",
      "{'x1': 4.0, 'y1': 4.26}\n",
      "{'x1': 12.0, 'y1': 10.84}\n",
      "{'x1': 7.0, 'y1': 4.82}\n",
      "{'x1': 5.0, 'y1': 5.68}\n",
      "\n",
      "\n",
      "No.2\n",
      "{'x2': 10.0, 'y2': 9.14}\n",
      "{'x2': 8.0, 'y2': 8.14}\n",
      "{'x2': 13.0, 'y2': 8.74}\n",
      "{'x2': 9.0, 'y2': 8.77}\n",
      "{'x2': 11.0, 'y2': 9.26}\n",
      "{'x2': 14.0, 'y2': 8.1}\n",
      "{'x2': 6.0, 'y2': 6.13}\n",
      "{'x2': 4.0, 'y2': 3.1}\n",
      "{'x2': 12.0, 'y2': 9.13}\n",
      "{'x2': 7.0, 'y2': 7.26}\n",
      "{'x2': 5.0, 'y2': 4.74}\n",
      "\n",
      "\n",
      "No.3\n",
      "{'x3': 10.0, 'y3': 7.46}\n",
      "{'x3': 8.0, 'y3': 6.77}\n",
      "{'x3': 13.0, 'y3': 12.74}\n",
      "{'x3': 9.0, 'y3': 7.11}\n",
      "{'x3': 11.0, 'y3': 7.81}\n",
      "{'x3': 14.0, 'y3': 8.84}\n",
      "{'x3': 6.0, 'y3': 6.08}\n",
      "{'x3': 4.0, 'y3': 5.39}\n",
      "{'x3': 12.0, 'y3': 8.15}\n",
      "{'x3': 7.0, 'y3': 6.42}\n",
      "{'x3': 5.0, 'y3': 5.73}\n",
      "\n",
      "\n",
      "No.4\n",
      "{'x4': 8.0, 'y4': 6.58}\n",
      "{'x4': 8.0, 'y4': 5.76}\n",
      "{'x4': 8.0, 'y4': 7.71}\n",
      "{'x4': 8.0, 'y4': 8.84}\n",
      "{'x4': 8.0, 'y4': 8.47}\n",
      "{'x4': 8.0, 'y4': 7.04}\n",
      "{'x4': 8.0, 'y4': 5.25}\n",
      "{'x4': 19.0, 'y4': 12.5}\n",
      "{'x4': 8.0, 'y4': 5.56}\n",
      "{'x4': 8.0, 'y4': 7.91}\n",
      "{'x4': 8.0, 'y4': 6.89}\n",
      "\n",
      "\n"
     ]
    }
   ],
   "source": [
    "def getData(fileName,n):\n",
    "    ''' \n",
    "    读取第n组数据\n",
    "    '''\n",
    "    dataFile = open(fileName, 'r')\n",
    "    x = []\n",
    "    y = []\n",
    "    discardHeader = dataFile.readline()# 读取表头\n",
    "    n=2*n\n",
    "    for line in dataFile:\n",
    "        a = line.split(',')\n",
    "        d, m= a[n],a[n+1]\n",
    "        x.append(float(d))\n",
    "        y.append(float(m))\n",
    "    dataFile.close()\n",
    "    return (x, y) # 返回该组数据x，y的列表形式\n",
    "\n",
    "inputFile='Anscombe.csv'\n",
    "i=0\n",
    "\n",
    "for i in range(group): #将每组数据以字典的形式表达\n",
    "    d={}\n",
    "    xlabel='x'+str(i+1)\n",
    "    ylabel='y'+str(i+1)\n",
    "    print('No.'+str(i+1))\n",
    "    x,y = getData(inputFile,i)\n",
    "    \n",
    "    z=0\n",
    "    while z<len(x):\n",
    "        d[xlabel]=x[z]\n",
    "        d[ylabel]=y[z]\n",
    "        z+=1\n",
    "        print(d)\n",
    "    print('\\n')\n"
   ]
  },
  {
   "cell_type": "markdown",
   "metadata": {},
   "source": [
    "# 统计指标计算和输出\n",
    "\n",
    "## 计算均值、方差和相关系数统计指标\n",
    "### 计算均值"
   ]
  },
  {
   "cell_type": "code",
   "execution_count": 4,
   "metadata": {},
   "outputs": [
    {
     "name": "stdout",
     "output_type": "stream",
     "text": [
      "第 1 组中x的均值为： 9.0 ，y的均值为： 7.5\n",
      "第 2 组中x的均值为： 9.0 ，y的均值为： 7.5\n",
      "第 3 组中x的均值为： 9.0 ，y的均值为： 7.5\n",
      "第 4 组中x的均值为： 9.0 ，y的均值为： 7.5\n"
     ]
    }
   ],
   "source": [
    "def avg(number):\n",
    "    '''\n",
    "    计算数据平均值\n",
    "    '''\n",
    "    total=0\n",
    "    for num in number:\n",
    "        total+=num\n",
    "    average=total/len(number)\n",
    "    return round(average,1) # 规定小数点后位数\n",
    "\n",
    "for i in range(group):\n",
    "    x,y = getData(inputFile,i)\n",
    "    print(\"第\",(i+1),\"组中x的均值为：\",avg(x),\"，y的均值为：\",avg(y))"
   ]
  },
  {
   "cell_type": "markdown",
   "metadata": {},
   "source": [
    "### 计算方差"
   ]
  },
  {
   "cell_type": "code",
   "execution_count": 5,
   "metadata": {},
   "outputs": [
    {
     "name": "stdout",
     "output_type": "stream",
     "text": [
      "第 1 组中x的方差为： 10.0 ，y的方差为： 3.75\n",
      "第 2 组中x的方差为： 10.0 ，y的方差为： 3.75\n",
      "第 3 组中x的方差为： 10.0 ，y的方差为： 3.75\n",
      "第 4 组中x的方差为： 10.0 ，y的方差为： 3.75\n"
     ]
    }
   ],
   "source": [
    "def pvar(number):\n",
    "    '''\n",
    "    计算方差\n",
    "    '''\n",
    "    z=0\n",
    "    i=0\n",
    "    while i < len(number):\n",
    "        z+=(number[i]-avg(number))**2\n",
    "        i+=1\n",
    "    variance=z/len(number)\n",
    "    return round(variance,2)\n",
    "\n",
    "for i in range(group):\n",
    "    x,y = getData(inputFile,i)\n",
    "    print(\"第\",(i+1),\"组中x的方差为：\",pvar(x),\"，y的方差为：\",pvar(y))"
   ]
  },
  {
   "cell_type": "markdown",
   "metadata": {},
   "source": [
    "### 计算相关系数"
   ]
  },
  {
   "cell_type": "code",
   "execution_count": 6,
   "metadata": {},
   "outputs": [
    {
     "name": "stdout",
     "output_type": "stream",
     "text": [
      "第 1 组的相关系数为： 0.817\n",
      "第 2 组的相关系数为： 0.816\n",
      "第 3 组的相关系数为： 0.816\n",
      "第 4 组的相关系数为： 0.816\n"
     ]
    }
   ],
   "source": [
    "def pearson(xi,yi):\n",
    "    '''\n",
    "    计算xi与yi的相关系数\n",
    "    '''\n",
    "    t=0\n",
    "    i=0\n",
    "    while i < len(xi):\n",
    "        t+=(xi[i]-avg(xi))*(yi[i]-avg(yi))\n",
    "        i+=1\n",
    "    r=t/((pvar(xi)*pvar(yi))**0.5*len(xi))\n",
    "    return round(r,3)\n",
    "\n",
    "for i in range(group):\n",
    "    x,y = getData(inputFile,i)\n",
    "    print(\"第\",(i+1),\"组的相关系数为：\",pearson(x,y))"
   ]
  },
  {
   "cell_type": "markdown",
   "metadata": {},
   "source": [
    "## 使用字符输出统计结果表格"
   ]
  },
  {
   "cell_type": "code",
   "execution_count": 7,
   "metadata": {},
   "outputs": [
    {
     "name": "stdout",
     "output_type": "stream",
     "text": [
      "------------------------------------------------------------------------------------------\n",
      "    No    \t  x-avg   \t  x-pvar  \t  y-avg   \t  y-pvar  \tpearson_r \n",
      "------------------------------------------------------------------------------------------\n",
      "    1     \t   9.0    \t   10.0   \t   7.5    \t   3.75   \t  0.817   \n",
      "    2     \t   9.0    \t   10.0   \t   7.5    \t   3.75   \t  0.816   \n",
      "    3     \t   9.0    \t   10.0   \t   7.5    \t   3.75   \t  0.816   \n",
      "    4     \t   9.0    \t   10.0   \t   7.5    \t   3.75   \t  0.816   \n",
      "------------------------------------------------------------------------------------------\n"
     ]
    }
   ],
   "source": [
    "tplt = \"{0:^10}\\t{1:^10}\\t{2:^10}\\t{3:^10}\\t{4:^10}\\t{5:^10}\" # 规定格式\n",
    "print('-'*(10*6+5*6))\n",
    "print(tplt.format(\"No\", \"x-avg\", \"x-pvar\",\"y-avg\",\"y-pvar\",\"pearson_r\")) # 表头\n",
    "print('-'*(10*6+5*6))\n",
    "\n",
    "i=0\n",
    "for i in range(group):\n",
    "    x,y = getData(inputFile,i)\n",
    "    print(tplt.format(i+1,avg(x),pvar(x),avg(y),pvar(y),pearson(x,y))) # 输出每组数据\n",
    "print('-'*(10*6+5*6))"
   ]
  },
  {
   "cell_type": "markdown",
   "metadata": {},
   "source": [
    "# 线性回归和图形输出"
   ]
  },
  {
   "cell_type": "code",
   "execution_count": 8,
   "metadata": {
    "scrolled": false
   },
   "outputs": [
    {
     "name": "stdout",
     "output_type": "stream",
     "text": [
      "第 1 组线性回归方程为： y = 0.50009 x+3.00009\n",
      "第 2 组线性回归方程为： y = 0.50000 x+3.00091\n",
      "第 3 组线性回归方程为： y = 0.49973 x+3.00245\n",
      "第 4 组线性回归方程为： y = 0.49991 x+3.00173\n"
     ]
    },
    {
     "data": {
      "image/png": "[encoded data removed]",
      "text/plain": [
       "<Figure size 864x576 with 4 Axes>"
      ]
     },
     "metadata": {
      "needs_background": "light"
     },
     "output_type": "display_data"
    }
   ],
   "source": [
    "import numpy as np\n",
    "import math\n",
    "import matplotlib.pyplot as plt\n",
    "\n",
    "def changevec(filename):\n",
    "    '''\n",
    "    以矩阵的形式读取文件\n",
    "    '''\n",
    "    file=open('Anscombe.csv','r')\n",
    "    discardHeader = file.readline()# 读取表头\n",
    "    filelist=file.readlines()\n",
    "    filerow=len(filelist)\n",
    "    vec=np.zeros((filerow,filecol))\n",
    "    listnum=[]\n",
    "    i=0\n",
    "    for line in filelist:\n",
    "        line = line.strip() #去掉每行头尾空白 \n",
    "        listline=line.split(',') #按换行符分割数据\n",
    "        vec[i,:] =listline\n",
    "        i+=1\n",
    "    file.close()\n",
    "    return(vec)\n",
    "    \n",
    "vec = changevec('Anscombe.csv')\n",
    "a = np.zeros(group)\n",
    "b= np.zeros(group)\n",
    "\n",
    "i=0\n",
    "for i in range(group):\n",
    "    a[i],b[i] = np.polyfit(vec[:,i*2],vec[:,1+i*2], 1) #一阶拟合\n",
    "    print('第',i+1,'组线性回归方程为：','y = %.5f x+%.5f' % (a[i], b[i]))\n",
    "\n",
    "def plotData(x,y,i,ai,bi,fx,fy):\n",
    "    '''\n",
    "    线性回归的图形输出\n",
    "    '''\n",
    "    plt.title('No: '+str(i+1))\n",
    "    plt.xlabel('x')\n",
    "    plt.ylabel('y') # 规定标题与坐标轴\n",
    "    plt.plot(x,y, 'r*') # 绘制散点图\n",
    "    \n",
    "    streq=r'$'+'y = %.5f x+%.5f' % (ai, bi)+'$'\n",
    "    _label= r'Linear Regression:$y=f(x)$'+\"\\n\"+streq # 图例\n",
    "    plt.plot(fx, fy, 'k-',label=_label) # 绘制回归直线  \n",
    "    plt.legend(loc='best')\n",
    "    \n",
    "figcol=2\n",
    "figrow=math.ceil(group/figcol) # 规定多幅图的排列方式\n",
    "fig=plt.figure(figsize=(12.0,8.0))\n",
    "fig.subplots_adjust(left=0.05,right=0.95,bottom=0.05,top=0.95) # 多图间隔\n",
    "\n",
    "for i in range(group):\n",
    "    plt.subplot(figrow, figcol,i+1) # 绘制多幅图\n",
    "    plt.xlim(0 ,18)\n",
    "    plt.ylim(2 ,14) # x,y轴坐标范围    \n",
    "    fx=np.array([0,18])\n",
    "    fy=a[i]*fx+b[i]\n",
    "    plotData(vec[:,i*2],vec[:,1+i*2],i,a[i],b[i],fx,fy)\n",
    "\n",
    "plt.savefig(\"Practice1_Anscombe.svg\")\n",
    "plt.show()"
   ]
  },
  {
   "cell_type": "markdown",
   "metadata": {},
   "source": [
    "# 小结：如何做一个好的统计分析结果的提供者和消费者？\n",
    "\n",
    "  **答：**\n",
    "  \n",
    "  （1）\n",
    "  \n",
    "   * 做一个好的数据分析结果的提供者，所选取的数据应当足够大，并且具有科学性，以减少数据偏差而造成的取样误差，除此之外还应具有普遍性和代表性，而且易于获取，这样方便他人更方便了解所得数据，从而增加数据的可信度；\n",
    "   * 在分析数据时应考虑合适的分类标准，并要采取合适的模型拟合，尽量尝试多种模型来使统计结果最接近真实情况；\n",
    "   * 在展示统计结果时要采取多样的展示方式，不仅有文字的分析说明，还需要多种图表来直观表现数据的变化趋势、相对大小、所占比例，方便他人直观了解统计数据信息，从而更容易分析和得出结论。\n",
    "   \n",
    "（2）\n",
    "   \n",
    "   * 做一个好的数据分析结果的消费者，要选择正规且权威的分析数据，避免因为数据来源问题造成分析失误，同时需要获得全面数据，客观了解数据；\n",
    "   * 在分析结果时要做到多途径分析，不仅要看样本数据的绝对大小，更要重视其相对比例和变化趋势，综合各方面进行分析，从而得到更加客观真实的结论。\n"
   ]
  },
  {
   "cell_type": "code",
   "execution_count": null,
   "metadata": {},
   "outputs": [],
   "source": []
  }
 ],
 "metadata": {
  "kernelspec": {
   "display_name": "Python 3",
   "language": "python",
   "name": "python3"
  },
  "language_info": {
   "codemirror_mode": {
    "name": "ipython",
    "version": 3
   },
   "file_extension": ".py",
   "mimetype": "text/x-python",
   "name": "python",
   "nbconvert_exporter": "python",
   "pygments_lexer": "ipython3",
   "version": "3.7.6"
  },
  "toc": {
   "base_numbering": 1,
   "nav_menu": {},
   "number_sections": true,
   "sideBar": true,
   "skip_h1_title": false,
   "title_cell": "Table of Contents",
   "title_sidebar": "Contents",
   "toc_cell": false,
   "toc_position": {
    "height": "calc(100% - 180px)",
    "left": "10px",
    "top": "150px",
    "width": "165px"
   },
   "toc_section_display": true,
   "toc_window_display": true
  }
 },
 "nbformat": 4,
 "nbformat_minor": 4
}
